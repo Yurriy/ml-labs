{
 "cells": [
  {
   "cell_type": "markdown",
   "metadata": {},
   "source": [
    "# 1. Многоклассовая классификация"
   ]
  },
  {
   "cell_type": "code",
   "execution_count": 10,
   "metadata": {
    "collapsed": false
   },
   "outputs": [],
   "source": [
    "import numpy as np\n",
    "import matplotlib.pyplot as plt\n",
    "from keras.datasets import mnist\n",
    "\n",
    "(X_train, y_train), (X_test, y_test) = mnist.load_data()\n",
    "\n",
    "X_train = X_train.reshape(60000, 784)\n",
    "X_test = X_test.reshape(10000, 784)\n",
    "X_train = X_train.astype('float32')\n",
    "X_test = X_test.astype('float32')\n",
    "X_train /= 3000\n",
    "X_test /= 3000\n",
    "X_train = np.hstack((X_train, np.ones((len(X_train), 1))))\n",
    "X_test = np.hstack((X_test, np.ones((len(X_test), 1))))"
   ]
  },
  {
   "cell_type": "code",
   "execution_count": 11,
   "metadata": {
    "collapsed": true
   },
   "outputs": [],
   "source": [
    "def softmax(x):\n",
    "    e_x = np.exp(x - np.max(x))\n",
    "    return e_x / e_x.sum()"
   ]
  },
  {
   "cell_type": "code",
   "execution_count": 12,
   "metadata": {
    "collapsed": true
   },
   "outputs": [],
   "source": [
    "class Classifier:\n",
    "    def __init__(self):\n",
    "        self.w = np.random.uniform(0, 1, (10, 785))\n",
    "        \n",
    "    def gradient(self, p, x, label):\n",
    "        grad = np.dot(np.reshape(p, (10, 1)), np.array([x]))\n",
    "        grad[label] -= x\n",
    "        return grad\n",
    "\n",
    "    def learn(self, x, y):\n",
    "        for i in range(len(y)):\n",
    "            p = softmax(np.dot(self.w, x[i]))\n",
    "            self.w -= self.gradient(p, x[i], y[i])\n",
    "\n",
    "    def classify(self, x):\n",
    "        p = softmax(np.dot(self.w, x))\n",
    "        return np.argmax(p)\n",
    "\n",
    "    def measure_accuracy(self, X_test, y_test):\n",
    "        cnt = 0.\n",
    "        for i in range(len(X_test)):\n",
    "            answer = self.classify(X_test[i])\n",
    "            if answer == y_test[i]:\n",
    "                cnt += 1\n",
    "        return cnt / len(X_test)"
   ]
  },
  {
   "cell_type": "code",
   "execution_count": 16,
   "metadata": {
    "collapsed": false
   },
   "outputs": [
    {
     "name": "stdout",
     "output_type": "stream",
     "text": [
      "0.9096\n"
     ]
    }
   ],
   "source": [
    "cl = Classifier()\n",
    "cl.learn(X_train, y_train)\n",
    "print(cl.measure_accuracy(X_test, y_test))"
   ]
  },
  {
   "cell_type": "markdown",
   "metadata": {},
   "source": [
    " ## Регуляризация"
   ]
  },
  {
   "cell_type": "code",
   "execution_count": 23,
   "metadata": {
    "collapsed": false
   },
   "outputs": [],
   "source": [
    "k1, k2 = 1e-7, 1e-8\n",
    "\n",
    "class Classifier2(Classifier):\n",
    "    def gradient(self, p, x, label):\n",
    "        grad = np.dot(np.reshape(p, (10, 1)), np.array([x]))\n",
    "        grad[label] -= x\n",
    "        grad += np.sign(self.w) * k1 + k2 * self.w\n",
    "        return grad"
   ]
  },
  {
   "cell_type": "code",
   "execution_count": 24,
   "metadata": {
    "collapsed": false
   },
   "outputs": [
    {
     "name": "stdout",
     "output_type": "stream",
     "text": [
      "0.9096\n"
     ]
    }
   ],
   "source": [
    "cl = Classifier2()\n",
    "cl.learn(X_train, y_train)\n",
    "print(cl.measure_accuracy(X_test, y_test))"
   ]
  },
  {
   "cell_type": "markdown",
   "metadata": {},
   "source": [
    "#### Если коэффециенты достаточно большие, чтобы влиять на точность, она ухудшается, а при слишком маленьких увеличивается незначительно"
   ]
  },
  {
   "cell_type": "markdown",
   "metadata": {},
   "source": [
    "# 2. Полносвязные нейронные сети"
   ]
  },
  {
   "cell_type": "markdown",
   "metadata": {},
   "source": [
    "#### 1. Предложить w и b, чтобы $y=\\theta(wx+b)$ реализовывала следующие операторы:\n",
    "$$1.\\ wx + b = x_1\\wedge x_2$$\n",
    "$$2.\\ wx + b = x_1\\vee x_2$$\n",
    "$$3.\\ wx + b = \\overline{x_1}\\wedge \\overline{x_2}$$\n",
    "#### Решение\n",
    "\n",
    "$$1.\\ w = (1,1),\\ b = -1.5$$\n",
    "\n",
    "$$2.\\ w = (1,1),\\ b = -0.5$$\n",
    "\n",
    "$$2.\\ w = (-1,-1),\\ b = 0.5$$\n",
    "\n",
    "#### 2. Пример нереализуемой функции:\n",
    "$$y = x_1 \\equiv x_2$$\n"
   ]
  },
  {
   "cell_type": "markdown",
   "metadata": {},
   "source": [
    "#### 3. Найти предствление через \n",
    "\n",
    "$$f(x)=\\theta(W_2\\theta(W_1x+b_1) + b_2)$$\n",
    "\n",
    "#### Решение\n",
    "$$y = (x_1 \\wedge x_2) \\vee (\\overline{x_1}\\wedge \\overline{x_2})$$\n",
    "\n",
    "$$W_1 = \\begin{pmatrix}\n",
    "1 & 1 \\\\\n",
    "-1 & -1 \\\\\n",
    "\\end{pmatrix}$$\n",
    "\n",
    "$$b_1=\\begin{pmatrix}\n",
    "-1.5 \\\\\n",
    "0.5\n",
    "\\end{pmatrix}$$\n",
    "\n",
    "$$W_2=(1,1),\\ b_2=-0.5$$\n",
    "\n",
    "Первый элемент вектора $\\theta(W_1x+b_1)$ - значение левой скобки, второй - правой.\n",
    "\n",
    "Оператор $\\theta(W_2x+b)$ - дизъюнкция этих скобок."
   ]
  },
  {
   "cell_type": "markdown",
   "metadata": {
    "collapsed": true
   },
   "source": [
    "#### 4. Представление произвольной булевой функции\n",
    "\n",
    "Любая булева функция может быть представлена в ДНФ с помощью таблицы истинности. Остается реализовать конъюнкции.\n",
    "\n",
    "Каждая строка матрицы $W_{1i}$ будет отвечать за $i$-ю скобку. В ней стоят единицы для литералов, которые взяты в скобке без отрицания, -1 для литералов с отрицанием и 0 для остальных. $b_{1i} = -k + 0.5$, где $k$ - количество литералов, взятых без отрицания. Легко проверить, что полученное значение $W_{1i}x+b_{1i}>0\\ \\Leftrightarrow\\ $ все литералы в скобке равны 1.\n",
    "\n",
    "Строка $W_2$ будет состоять из $n$ единиц (где $n$ - количество скобок), а $b_2=-0.5$.\n",
    "\n",
    "Тогда $W_2x+b_2>0\\ \\Leftrightarrow\\ \\exists i:x_i=1$, то есть, $\\theta(W_2x+b)$ - дизъюнкция $x_1\\ldots x_n$."
   ]
  },
  {
   "cell_type": "markdown",
   "metadata": {},
   "source": [
    "# Двуслойная сеть"
   ]
  },
  {
   "cell_type": "code",
   "execution_count": 19,
   "metadata": {
    "collapsed": false
   },
   "outputs": [
    {
     "name": "stdout",
     "output_type": "stream",
     "text": [
      "Train on 60000 samples, validate on 10000 samples\n",
      "Epoch 1/3\n",
      "60000/60000 [==============================] - 9s - loss: 0.2537 - acc: 0.9273 - val_loss: 0.1341 - val_acc: 0.9607\n",
      "Epoch 2/3\n",
      "60000/60000 [==============================] - 8s - loss: 0.1047 - acc: 0.9690 - val_loss: 0.0955 - val_acc: 0.9720\n",
      "Epoch 3/3\n",
      "60000/60000 [==============================] - 9s - loss: 0.0689 - acc: 0.9794 - val_loss: 0.0912 - val_acc: 0.9714\n",
      "Test score: 0.0911891011957\n",
      "Test accuracy: 0.9714\n"
     ]
    }
   ],
   "source": [
    "\n",
    "from __future__ import print_function\n",
    "import numpy as np\n",
    "np.random.seed(1337)\n",
    "\n",
    "from keras.datasets import mnist\n",
    "from keras.models import Sequential\n",
    "from keras.layers.core import Dense, Activation\n",
    "from keras.optimizers import RMSprop\n",
    "from keras.utils import np_utils\n",
    "\n",
    "\n",
    "batch_size = 128\n",
    "nb_classes = 10\n",
    "nb_epoch = 3\n",
    "\n",
    "(X_train, y_train), (X_test, y_test) = mnist.load_data()\n",
    "\n",
    "X_train = X_train.reshape(60000, 784)\n",
    "X_test = X_test.reshape(10000, 784)\n",
    "X_train = X_train.astype('float32')\n",
    "X_test = X_test.astype('float32')\n",
    "X_train /= 255\n",
    "X_test /= 255\n",
    "\n",
    "Y_train = np_utils.to_categorical(y_train, nb_classes)\n",
    "Y_test = np_utils.to_categorical(y_test, nb_classes)\n",
    "\n",
    "model = Sequential()\n",
    "model.add(Dense(512, input_shape=(784,)))\n",
    "model.add(Activation('relu'))\n",
    "model.add(Dense(10))\n",
    "model.add(Activation('softmax'))\n",
    "\n",
    "model.compile(loss='categorical_crossentropy',\n",
    "              optimizer=RMSprop(),\n",
    "              metrics=['accuracy'])\n",
    "\n",
    "history = model.fit(X_train, Y_train,\n",
    "                    batch_size=batch_size, nb_epoch=nb_epoch,\n",
    "                    verbose=1, validation_data=(X_test, Y_test))\n",
    "score = model.evaluate(X_test, Y_test, verbose=0)\n",
    "print('Test score:', score[0])\n",
    "print('Test accuracy:', score[1])\n"
   ]
  },
  {
   "cell_type": "markdown",
   "metadata": {},
   "source": [
    "### Точность увеличилась с 91% до 97%"
   ]
  },
  {
   "cell_type": "markdown",
   "metadata": {},
   "source": [
    "## Влияние размерности выходного вектора 1 слоя на точность"
   ]
  },
  {
   "cell_type": "code",
   "execution_count": null,
   "metadata": {
    "collapsed": false
   },
   "outputs": [],
   "source": [
    "sizes = []\n",
    "accuracy = []\n",
    "\n",
    "for i in range(10, 850, 30):\n",
    "    sizes.append(i)\n",
    "    model = Sequential()\n",
    "    model.add(Dense(i, input_shape=(784,)))\n",
    "    model.add(Activation('relu'))\n",
    "    model.add(Dense(10))\n",
    "    model.add(Activation('softmax'))\n",
    "    model.compile(loss='categorical_crossentropy',\n",
    "                  optimizer=RMSprop(),\n",
    "                  metrics=['accuracy'])\n",
    "\n",
    "    history = model.fit(X_train, Y_train,\n",
    "                        batch_size=batch_size, nb_epoch=nb_epoch,\n",
    "                        verbose=0, validation_data=(X_test, Y_test))\n",
    "    score = model.evaluate(X_test, Y_test, verbose=0)\n",
    "    accuracy.append(score[1])"
   ]
  },
  {
   "cell_type": "code",
   "execution_count": 15,
   "metadata": {
    "collapsed": false
   },
   "outputs": [
    {
     "data": {
      "image/png": "[encoded data removed]",
      "text/plain": [
       "<matplotlib.figure.Figure at 0x1143fd3c8>"
      ]
     },
     "metadata": {},
     "output_type": "display_data"
    }
   ],
   "source": [
    "plt.plot(sizes, accuracy, 'k-')\n",
    "plt.show()"
   ]
  },
  {
   "cell_type": "markdown",
   "metadata": {
    "collapsed": true
   },
   "source": [
    "Итого, точность максимальна, когда выходной размер равен входному, и начинает сильно падать при уменьшении размерности в более, чем 2 раза"
   ]
  },
  {
   "cell_type": "markdown",
   "metadata": {},
   "source": [
    "## Влияние количества слоев на точность"
   ]
  },
  {
   "cell_type": "code",
   "execution_count": 12,
   "metadata": {
    "collapsed": false
   },
   "outputs": [
    {
     "name": "stdout",
     "output_type": "stream",
     "text": [
      "1\n",
      "Train on 60000 samples, validate on 10000 samples\n",
      "Epoch 1/5\n",
      "60000/60000 [==============================] - 5s - loss: 0.3192 - acc: 0.9103 - val_loss: 0.1771 - val_acc: 0.9464\n",
      "Epoch 2/5\n",
      "60000/60000 [==============================] - 5s - loss: 0.1396 - acc: 0.9592 - val_loss: 0.1289 - val_acc: 0.9615\n",
      "Epoch 3/5\n",
      "60000/60000 [==============================] - 5s - loss: 0.0928 - acc: 0.9729 - val_loss: 0.0869 - val_acc: 0.9737\n",
      "Epoch 4/5\n",
      "60000/60000 [==============================] - 5s - loss: 0.0677 - acc: 0.9803 - val_loss: 0.0813 - val_acc: 0.9749\n",
      "Epoch 5/5\n",
      "60000/60000 [==============================] - 5s - loss: 0.0521 - acc: 0.9843 - val_loss: 0.0796 - val_acc: 0.9752\n",
      "2\n",
      "Train on 60000 samples, validate on 10000 samples\n",
      "Epoch 1/5\n",
      "60000/60000 [==============================] - 8s - loss: 0.2851 - acc: 0.9117 - val_loss: 0.1713 - val_acc: 0.9449\n",
      "Epoch 2/5\n",
      "60000/60000 [==============================] - 8s - loss: 0.1006 - acc: 0.9688 - val_loss: 0.1119 - val_acc: 0.9646\n",
      "Epoch 3/5\n",
      "60000/60000 [==============================] - 7s - loss: 0.0638 - acc: 0.9795 - val_loss: 0.0879 - val_acc: 0.9716\n",
      "Epoch 4/5\n",
      "60000/60000 [==============================] - 8s - loss: 0.0444 - acc: 0.9859 - val_loss: 0.0774 - val_acc: 0.9788\n",
      "Epoch 5/5\n",
      "60000/60000 [==============================] - 8s - loss: 0.0322 - acc: 0.9898 - val_loss: 0.0676 - val_acc: 0.9811\n",
      "3\n",
      "Train on 60000 samples, validate on 10000 samples\n",
      "Epoch 1/5\n",
      "60000/60000 [==============================] - 10s - loss: 0.3050 - acc: 0.9037 - val_loss: 0.1438 - val_acc: 0.9531\n",
      "Epoch 2/5\n",
      "60000/60000 [==============================] - 10s - loss: 0.1001 - acc: 0.9688 - val_loss: 0.1838 - val_acc: 0.9401\n",
      "Epoch 3/5\n",
      "60000/60000 [==============================] - 10s - loss: 0.0644 - acc: 0.9793 - val_loss: 0.0817 - val_acc: 0.9767\n",
      "Epoch 4/5\n",
      "60000/60000 [==============================] - 10s - loss: 0.0453 - acc: 0.9856 - val_loss: 0.0734 - val_acc: 0.9793\n",
      "Epoch 5/5\n",
      "60000/60000 [==============================] - 10s - loss: 0.0335 - acc: 0.9893 - val_loss: 0.0781 - val_acc: 0.9801\n",
      "4\n",
      "Train on 60000 samples, validate on 10000 samples\n",
      "Epoch 1/5\n",
      "60000/60000 [==============================] - 14s - loss: 0.3304 - acc: 0.8959 - val_loss: 0.1754 - val_acc: 0.9421\n",
      "Epoch 2/5\n",
      "60000/60000 [==============================] - 13s - loss: 0.1084 - acc: 0.9676 - val_loss: 0.1691 - val_acc: 0.9439\n",
      "Epoch 3/5\n",
      "60000/60000 [==============================] - 12s - loss: 0.0702 - acc: 0.9782 - val_loss: 0.1533 - val_acc: 0.9609\n",
      "Epoch 4/5\n",
      "60000/60000 [==============================] - 12s - loss: 0.0510 - acc: 0.9842 - val_loss: 0.1011 - val_acc: 0.9740\n",
      "Epoch 5/5\n",
      "60000/60000 [==============================] - 12s - loss: 0.0373 - acc: 0.9889 - val_loss: 0.0768 - val_acc: 0.9805\n",
      "5\n",
      "Train on 60000 samples, validate on 10000 samples\n",
      "Epoch 1/5\n",
      "60000/60000 [==============================] - 16s - loss: 0.3680 - acc: 0.8841 - val_loss: 0.2303 - val_acc: 0.9336\n",
      "Epoch 2/5\n",
      "60000/60000 [==============================] - 15s - loss: 0.1190 - acc: 0.9657 - val_loss: 0.1713 - val_acc: 0.9518\n",
      "Epoch 3/5\n",
      "60000/60000 [==============================] - 15s - loss: 0.0778 - acc: 0.9775 - val_loss: 0.1343 - val_acc: 0.9615\n",
      "Epoch 4/5\n",
      "60000/60000 [==============================] - 15s - loss: 0.0583 - acc: 0.9832 - val_loss: 0.1840 - val_acc: 0.9547\n",
      "Epoch 5/5\n",
      "60000/60000 [==============================] - 15s - loss: 0.0450 - acc: 0.9871 - val_loss: 0.0774 - val_acc: 0.9789\n",
      "6\n",
      "Train on 60000 samples, validate on 10000 samples\n",
      "Epoch 1/5\n",
      "60000/60000 [==============================] - 18s - loss: 0.4580 - acc: 0.8596 - val_loss: 0.2926 - val_acc: 0.9119\n",
      "Epoch 2/5\n",
      "60000/60000 [==============================] - 17s - loss: 0.1382 - acc: 0.9612 - val_loss: 0.1476 - val_acc: 0.9586\n",
      "Epoch 3/5\n",
      "60000/60000 [==============================] - 17s - loss: 0.0888 - acc: 0.9748 - val_loss: 0.1157 - val_acc: 0.9694\n",
      "Epoch 4/5\n",
      "60000/60000 [==============================] - 17s - loss: 0.0666 - acc: 0.9811 - val_loss: 0.0878 - val_acc: 0.9769\n",
      "Epoch 5/5\n",
      "60000/60000 [==============================] - 17s - loss: 0.0523 - acc: 0.9859 - val_loss: 0.1076 - val_acc: 0.9746\n",
      "7\n",
      "Train on 60000 samples, validate on 10000 samples\n",
      "Epoch 1/5\n",
      "60000/60000 [==============================] - 20s - loss: 0.4802 - acc: 0.8478 - val_loss: 0.2400 - val_acc: 0.9326\n",
      "Epoch 2/5\n",
      "60000/60000 [==============================] - 20s - loss: 0.1454 - acc: 0.9599 - val_loss: 0.1812 - val_acc: 0.9560\n",
      "Epoch 3/5\n",
      "60000/60000 [==============================] - 20s - loss: 0.0966 - acc: 0.9733 - val_loss: 0.1001 - val_acc: 0.9761\n",
      "Epoch 4/5\n",
      "60000/60000 [==============================] - 20s - loss: 0.0735 - acc: 0.9799 - val_loss: 0.1154 - val_acc: 0.9737\n",
      "Epoch 5/5\n",
      "60000/60000 [==============================] - 21s - loss: 0.0596 - acc: 0.9843 - val_loss: 0.0965 - val_acc: 0.9782\n",
      "8\n",
      "Train on 60000 samples, validate on 10000 samples\n",
      "Epoch 1/5\n",
      "60000/60000 [==============================] - 23s - loss: 0.5930 - acc: 0.8120 - val_loss: 0.4438 - val_acc: 0.8975\n",
      "Epoch 2/5\n",
      "60000/60000 [==============================] - 22s - loss: 0.1618 - acc: 0.9582 - val_loss: 0.1471 - val_acc: 0.9633\n",
      "Epoch 3/5\n",
      "60000/60000 [==============================] - 22s - loss: 0.1061 - acc: 0.9731 - val_loss: 0.1266 - val_acc: 0.9706\n",
      "Epoch 4/5\n",
      "60000/60000 [==============================] - 23s - loss: 0.0789 - acc: 0.9800 - val_loss: 0.0873 - val_acc: 0.9798\n",
      "Epoch 5/5\n",
      "60000/60000 [==============================] - 22s - loss: 0.0649 - acc: 0.9841 - val_loss: 0.1459 - val_acc: 0.9722\n",
      "9\n",
      "Train on 60000 samples, validate on 10000 samples\n",
      "Epoch 1/5\n",
      "60000/60000 [==============================] - 26s - loss: 0.6634 - acc: 0.7864 - val_loss: 0.2295 - val_acc: 0.9449\n",
      "Epoch 2/5\n",
      "60000/60000 [==============================] - 26s - loss: 0.1771 - acc: 0.9549 - val_loss: 0.1489 - val_acc: 0.9620\n",
      "Epoch 3/5\n",
      "60000/60000 [==============================] - 25s - loss: 0.1170 - acc: 0.9699 - val_loss: 0.2255 - val_acc: 0.9436\n",
      "Epoch 4/5\n",
      "60000/60000 [==============================] - 25s - loss: 0.0869 - acc: 0.9790 - val_loss: 0.1222 - val_acc: 0.9708\n",
      "Epoch 5/5\n",
      "60000/60000 [==============================] - 26s - loss: 0.0723 - acc: 0.9823 - val_loss: 0.1093 - val_acc: 0.9782\n"
     ]
    }
   ],
   "source": [
    "layers_count = []\n",
    "accuracy = []\n",
    "nb_epoch = 5\n",
    "batch_size = 256\n",
    "\n",
    "for i in range(1, 10):\n",
    "    print(i)\n",
    "    layers_count.append(i)\n",
    "    model = Sequential()\n",
    "    for j in range(i):\n",
    "        model.add(Dense(400, input_shape=(784,)))\n",
    "        model.add(Activation('relu'))\n",
    "    model.add(Dense(10))\n",
    "    model.add(Activation('softmax'))\n",
    "    model.compile(loss='categorical_crossentropy',\n",
    "                  optimizer=RMSprop(),\n",
    "                  metrics=['accuracy'])\n",
    "\n",
    "    history = model.fit(X_train, Y_train,\n",
    "                        batch_size=batch_size, nb_epoch=nb_epoch,\n",
    "                        verbose=1, validation_data=(X_test, Y_test))\n",
    "    score = model.evaluate(X_test, Y_test, verbose=0)\n",
    "    accuracy.append(score[1])"
   ]
  },
  {
   "cell_type": "code",
   "execution_count": 14,
   "metadata": {
    "collapsed": false
   },
   "outputs": [
    {
     "data": {
      "image/png": "[encoded data removed]",
      "text/plain": [
       "<matplotlib.figure.Figure at 0x11c84f550>"
      ]
     },
     "metadata": {},
     "output_type": "display_data"
    }
   ],
   "source": [
    "plt.plot(layers_count, accuracy, 'k-')\n",
    "plt.show()"
   ]
  },
  {
   "cell_type": "markdown",
   "metadata": {},
   "source": [
    "### Итого, при фиксированном количестве проходов по данным, максимальная точность у двуслойной сети."
   ]
  },
  {
   "cell_type": "markdown",
   "metadata": {},
   "source": [
    "# Произвольная архитектура"
   ]
  },
  {
   "cell_type": "code",
   "execution_count": 24,
   "metadata": {
    "collapsed": false,
    "scrolled": false
   },
   "outputs": [
    {
     "name": "stdout",
     "output_type": "stream",
     "text": [
      "Train on 60000 samples, validate on 10000 samples\n",
      "Epoch 1/15\n",
      "60000/60000 [==============================] - 24s - loss: 0.2644 - acc: 0.9184 - val_loss: 0.1538 - val_acc: 0.9523\n",
      "Epoch 2/15\n",
      "60000/60000 [==============================] - 23s - loss: 0.1086 - acc: 0.9661 - val_loss: 0.1194 - val_acc: 0.9639\n",
      "Epoch 3/15\n",
      "60000/60000 [==============================] - 24s - loss: 0.0741 - acc: 0.9762 - val_loss: 0.0981 - val_acc: 0.9693\n",
      "Epoch 4/15\n",
      "60000/60000 [==============================] - 25s - loss: 0.0553 - acc: 0.9817 - val_loss: 0.0861 - val_acc: 0.9743\n",
      "Epoch 5/15\n",
      "60000/60000 [==============================] - 22s - loss: 0.0428 - acc: 0.9864 - val_loss: 0.0866 - val_acc: 0.9753\n",
      "Epoch 6/15\n",
      "60000/60000 [==============================] - 22s - loss: 0.0344 - acc: 0.9892 - val_loss: 0.0808 - val_acc: 0.9769\n",
      "Epoch 7/15\n",
      "60000/60000 [==============================] - 23s - loss: 0.0271 - acc: 0.9915 - val_loss: 0.0741 - val_acc: 0.9810\n",
      "Epoch 8/15\n",
      "60000/60000 [==============================] - 24s - loss: 0.0224 - acc: 0.9929 - val_loss: 0.0883 - val_acc: 0.9781\n",
      "Epoch 9/15\n",
      "60000/60000 [==============================] - 23s - loss: 0.0172 - acc: 0.9946 - val_loss: 0.0821 - val_acc: 0.9789\n",
      "Epoch 10/15\n",
      "60000/60000 [==============================] - 23s - loss: 0.0154 - acc: 0.9950 - val_loss: 0.0774 - val_acc: 0.9814\n",
      "Epoch 11/15\n",
      "60000/60000 [==============================] - 24s - loss: 0.0130 - acc: 0.9958 - val_loss: 0.0863 - val_acc: 0.9788\n",
      "Epoch 12/15\n",
      "60000/60000 [==============================] - 26s - loss: 0.0118 - acc: 0.9962 - val_loss: 0.0843 - val_acc: 0.9805\n",
      "Epoch 13/15\n",
      "60000/60000 [==============================] - 25s - loss: 0.0109 - acc: 0.9965 - val_loss: 0.0892 - val_acc: 0.9800\n",
      "Epoch 14/15\n",
      "60000/60000 [==============================] - 24s - loss: 0.0086 - acc: 0.9971 - val_loss: 0.0816 - val_acc: 0.9838\n",
      "Epoch 15/15\n",
      "60000/60000 [==============================] - 25s - loss: 0.0073 - acc: 0.9974 - val_loss: 0.0922 - val_acc: 0.9822\n",
      "Test score: 0.0921914548577\n",
      "Test accuracy: 0.9822\n"
     ]
    }
   ],
   "source": [
    "nb_epoch = 15\n",
    "batch_size = 128\n",
    "\n",
    "model = Sequential()\n",
    "model.add(Dense(784, input_shape=(784,)))\n",
    "model.add(Activation('tanh'))\n",
    "model.add(Dense(512))\n",
    "model.add(Activation('relu'))\n",
    "model.add(Dense(256))\n",
    "model.add(Activation('sigmoid'))\n",
    "model.add(Dense(10))\n",
    "model.add(Activation('softmax'))\n",
    "\n",
    "model.compile(loss='categorical_crossentropy',\n",
    "              optimizer=RMSprop(),\n",
    "              metrics=['accuracy'])\n",
    "\n",
    "history = model.fit(X_train, Y_train,\n",
    "                    batch_size=batch_size, nb_epoch=nb_epoch,\n",
    "                    verbose=1, validation_data=(X_test, Y_test))\n",
    "score = model.evaluate(X_test, Y_test, verbose=0)\n",
    "print('Test score:', score[0])\n",
    "print('Test accuracy:', score[1])"
   ]
  },
  {
   "cell_type": "code",
   "execution_count": null,
   "metadata": {
    "collapsed": true
   },
   "outputs": [],
   "source": []
  }
 ],
 "metadata": {
  "kernelspec": {
   "display_name": "Python 3",
   "language": "python",
   "name": "python3"
  },
  "language_info": {
   "codemirror_mode": {
    "name": "ipython",
    "version": 3
   },
   "file_extension": ".py",
   "mimetype": "text/x-python",
   "name": "python",
   "nbconvert_exporter": "python",
   "pygments_lexer": "ipython3",
   "version": "3.5.2"
  }
 },
 "nbformat": 4,
 "nbformat_minor": 0
}
