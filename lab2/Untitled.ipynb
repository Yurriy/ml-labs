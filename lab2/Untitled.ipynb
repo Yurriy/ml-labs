{
 "cells": [
  {
   "cell_type": "markdown",
   "metadata": {},
   "source": [
    "# 1. Многоклассовая классификация"
   ]
  },
  {
   "cell_type": "code",
   "execution_count": 14,
   "metadata": {
    "collapsed": false
   },
   "outputs": [],
   "source": [
    "import numpy as np\n",
    "from keras.datasets import mnist\n",
    "\n",
    "(X_train, y_train), (X_test, y_test) = mnist.load_data()\n",
    "\n",
    "X_train = X_train.reshape(60000, 784)\n",
    "X_test = X_test.reshape(10000, 784)\n",
    "X_train = X_train.astype('float32')\n",
    "X_test = X_test.astype('float32')\n",
    "X_train /= 3000\n",
    "X_test /= 3000\n",
    "X_train = np.hstack((X_train, np.ones((len(X_train), 1))))\n",
    "X_test = np.hstack((X_test, np.ones((len(X_test), 1))))"
   ]
  },
  {
   "cell_type": "code",
   "execution_count": 17,
   "metadata": {
    "collapsed": true
   },
   "outputs": [],
   "source": [
    "def soft_max(v):\n",
    "    s = np.sum(np.exp(v))\n",
    "    ans = np.zeros(len(v))\n",
    "    for i in range(len(v)):\n",
    "        ans[i] = np.exp(v[i]) / s\n",
    "    return ans"
   ]
  },
  {
   "cell_type": "code",
   "execution_count": 122,
   "metadata": {
    "collapsed": true
   },
   "outputs": [],
   "source": [
    "def gradient(p, x, label):\n",
    "        grad = np.dot(np.split(p, 10), np.array([x]))\n",
    "        grad[label] -= x\n",
    "        return grad"
   ]
  },
  {
   "cell_type": "code",
   "execution_count": 27,
   "metadata": {
    "collapsed": true
   },
   "outputs": [],
   "source": [
    "class Classifier:\n",
    "    def __init__(self):\n",
    "        self.w = np.random.uniform(0, 1, (10, 785))\n",
    "\n",
    "    def learn(self, x, y):\n",
    "        N = len(x)\n",
    "        for i in range(N):\n",
    "            p = soft_max(np.dot(self.w, x[i]))\n",
    "            self.w -= gradient(p, x[i], y[i])\n",
    "\n",
    "    def classify(self, x):\n",
    "        p = soft_max(np.dot(self.w, x))\n",
    "        ans = 0\n",
    "        for i in range(10):\n",
    "            if p[i] > p[ans]:\n",
    "                ans = i\n",
    "        return round(ans)\n",
    "\n",
    "    def measure_accuracy(self, X_test, y_test):\n",
    "        cnt = 0.\n",
    "        for i in range(len(X_test)):\n",
    "            answer = self.classify(X_test[i])\n",
    "            if answer == y_test[i]:\n",
    "                cnt += 1\n",
    "        return cnt / len(X_test)"
   ]
  },
  {
   "cell_type": "code",
   "execution_count": 123,
   "metadata": {
    "collapsed": false
   },
   "outputs": [
    {
     "name": "stdout",
     "output_type": "stream",
     "text": [
      "0.9093\n"
     ]
    }
   ],
   "source": [
    "cl = Classifier()\n",
    "cl.learn(X_train, y_train)\n",
    "print(cl.measure_accuracy(X_test, y_test))"
   ]
  },
  {
   "cell_type": "markdown",
   "metadata": {},
   "source": [
    " ## Регуляризация"
   ]
  },
  {
   "cell_type": "code",
   "execution_count": 136,
   "metadata": {
    "collapsed": true
   },
   "outputs": [],
   "source": [
    "k1, k2 = 2e-5, 2e-2\n",
    "\n",
    "def gradient(p, x, label):\n",
    "        grad = np.dot(np.split(p, 10), np.array([x]))\n",
    "        grad[label] -= x\n",
    "        grad += np.sign(grad) * k1 + k2 * grad\n",
    "        return grad"
   ]
  },
  {
   "cell_type": "code",
   "execution_count": 138,
   "metadata": {
    "collapsed": false
   },
   "outputs": [
    {
     "name": "stdout",
     "output_type": "stream",
     "text": [
      "0.9091\n"
     ]
    }
   ],
   "source": [
    "cl = Classifier()\n",
    "cl.learn(X_train, y_train)\n",
    "print(cl.measure_accuracy(X_test, y_test))"
   ]
  },
  {
   "cell_type": "markdown",
   "metadata": {},
   "source": [
    "# 2. Полносвязные нейронные сети"
   ]
  },
  {
   "cell_type": "markdown",
   "metadata": {},
   "source": [
    "#### 1. Предложить w и b, чтобы $y=\\theta(wx+b)$ реализовывала следующие операторы:\n",
    "\n",
    "$$1.~ wx + b = x_1\\wedge x_2$$\n",
    "\n",
    "$$2.~ wx + b = x_1\\vee x_2$$\n",
    "\n",
    "$$3.~ wx + b = \\overline{x_1}\\wedge \\overline{x_2}$$\n",
    "\n",
    "#### Решение\n",
    "\n",
    "$$1.~ w = (1,1),~ b = -1.5$$\n",
    "\n",
    "$$2.~ w = (1,1),~ b = -0.5$$\n",
    "\n",
    "$$2.~ w = (-1,-1),~ b = 0.5$$\n",
    "\n",
    "#### 2. Пример нереализуемой функции:\n",
    "$$y = x_1 \\equiv x_2$$\n"
   ]
  },
  {
   "cell_type": "markdown",
   "metadata": {},
   "source": [
    "#### 3. Найти предствление через \n",
    "\n",
    "$$f(x)=\\theta(W_2\\theta(W_1x+b_1) + b_2)$$\n",
    "\n",
    "#### Решение\n",
    "$$y = (x_1 \\wedge x_2) \\vee (\\overline{x_1}\\wedge \\overline{x_2})$$\n",
    "\n",
    "$$W_1 = \\begin{pmatrix}\n",
    "1 & 1 \\\\\n",
    "-1 & -1 \\\\\n",
    "\\end{pmatrix}$$\n",
    "\n",
    "$$b_1=\\begin{pmatrix}\n",
    "-1.5 \\\\\n",
    "0.5\n",
    "\\end{pmatrix}$$\n",
    "\n",
    "$$W_2=(1,1),~ b_2=-0.5$$\n",
    "\n",
    "Первый элемент вектора $\\theta(W_1x+b_1)$ - значение левой скобки, второй - правой.\n",
    "\n",
    "Оператор $\\theta(W_2x+b)$ - дизъюнкция этих скобок."
   ]
  },
  {
   "cell_type": "markdown",
   "metadata": {
    "collapsed": true
   },
   "source": [
    "#### 4. Представление произвольной булевой функции\n",
    "\n",
    "Любая булева функция может быть представлена в ДНФ с помощью таблицы истинности. Остается реализовать конъюнкции.\n",
    "\n",
    "Каждая строка матрицы $W_{1i}$ будет отвечать за $i$-ю скобку. В ней стоят единицы для литералов, которые взяты в скобке без отрицания, -1 для литералов с отрицанием и 0 для остальных. $b_{1i} = -k + 0.5$, где $k$ - количество литералов, взятых без отрицания. Легко проверить, что полученное значение $W_{1i}x+b_{1i}>0~\\Leftrightarrow~$ все литералы в скобке равны 1.\n",
    "\n",
    "Строка $W_2$ будет состоять из $n$ единиц (где $n$ - количество скобок), а $b_2=-0.5$.\n",
    "\n",
    "Тогда $W_2x+b_2>0~\\Leftrightarrow~ \\exists i:x_i=1$, то есть, $\\theta(W_2x+b)$ - дизъюнкция $x_1\\ldots x_n$."
   ]
  },
  {
   "cell_type": "code",
   "execution_count": null,
   "metadata": {
    "collapsed": true
   },
   "outputs": [],
   "source": []
  }
 ],
 "metadata": {
  "kernelspec": {
   "display_name": "Python 3",
   "language": "python",
   "name": "python3"
  },
  "language_info": {
   "codemirror_mode": {
    "name": "ipython",
    "version": 3
   },
   "file_extension": ".py",
   "mimetype": "text/x-python",
   "name": "python",
   "nbconvert_exporter": "python",
   "pygments_lexer": "ipython3",
   "version": "3.5.2"
  }
 },
 "nbformat": 4,
 "nbformat_minor": 0
}
