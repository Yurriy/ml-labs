{
 "cells": [
  {
   "cell_type": "markdown",
   "metadata": {},
   "source": [
    "# 2. Полносвязные нейронные сети"
   ]
  },
  {
   "cell_type": "markdown",
   "metadata": {},
   "source": [
    "#### 1. Предложить w и b, чтобы $y=\\theta(wx+b)$ реализовывала следующие операторы:\n",
    "\n",
    "$$1.~ wx + b = x_1\\wedge x_2$$\n",
    "\n",
    "$$2.~ wx + b = x_1\\vee x_2$$\n",
    "\n",
    "$$3.~ wx + b = \\overline{x_1}\\wedge \\overline{x_2}$$\n",
    "\n",
    "#### Решение\n",
    "\n",
    "$$1.~ w = (1,1),~ b = -1.5$$\n",
    "\n",
    "$$2.~ w = (1,1),~ b = -0.5$$\n",
    "\n",
    "$$2.~ w = (-1,-1),~ b = 0.5$$\n",
    "\n",
    "#### 2. Пример нереализуемой функции:\n",
    "$$y = x_1 \\equiv x_2$$\n"
   ]
  },
  {
   "cell_type": "markdown",
   "metadata": {},
   "source": [
    "#### 3. Найти предствление через \n",
    "\n",
    "$$y=\\theta(W_2\\theta(W_1x+b_1) + b_2)$$\n",
    "\n",
    "#### Решение\n",
    "$$y = (x_1 \\wedge x_2) \\vee (\\overline{x_1}\\wedge \\overline{x_2})$$\n",
    "\n",
    "$$W_1 = \\begin{pmatrix}\n",
    "1 & 1 \\\\\n",
    "-1 & -1 \\\\\n",
    "\\end{pmatrix}$$\n",
    "\n",
    "$$b_1=\\begin{pmatrix}\n",
    "-1.5 \\\\\n",
    "0.5\n",
    "\\end{pmatrix}$$\n",
    "\n",
    "$$W_2=(1,1),~ b_2=-0.5$$\n",
    "\n",
    "Первый элемент вектора $\\theta(W_1x+b_1)$ - значение левой скобки, второй - правой.\n",
    "\n",
    "Оператор $\\theta(W_2x+b)$ - дизъюнкция этих скобок."
   ]
  },
  {
   "cell_type": "markdown",
   "metadata": {
    "collapsed": true
   },
   "source": [
    "#### 4. Представление произвольной булевой функции\n",
    "\n",
    "Любая булева функция может быть представлена в ДНФ с помощью таблицы истинности. Остается реализовать конъюнкции.\n",
    "\n",
    "Каждая строка матрицы $W_{1i}$ будет отвечать за $i$-ю скобку. В ней стоят единицы для литералов, которые взяты в скобке без отрицания, -1 для литералов с отрицанием и 0 для остальных. $b_{1i} = -k + 0.5$, где $k$ - количество литералов, взятых без отрицания. Легко проверить, что полученное значение $W_{1i}x+b_{1i}>0~\\Leftrightarrow~$ все литералы в скобке равны 1.\n",
    "\n",
    "Строка $W_2$ будет состоять из $n$ единиц (где $n$ - количество скобок), а $b_2=-0.5$.\n",
    "\n",
    "Тогда $W_2x+b_2>0~\\Leftrightarrow~ \\exists i:x_i=1$, то есть, $\\theta(W_2x+b)$ - дизъюнкция $x_1\\ldots x_n$."
   ]
  },
  {
   "cell_type": "code",
   "execution_count": null,
   "metadata": {
    "collapsed": true
   },
   "outputs": [],
   "source": []
  }
 ],
 "metadata": {
  "kernelspec": {
   "display_name": "Python 3",
   "language": "python",
   "name": "python3"
  },
  "language_info": {
   "codemirror_mode": {
    "name": "ipython",
    "version": 3
   },
   "file_extension": ".py",
   "mimetype": "text/x-python",
   "name": "python",
   "nbconvert_exporter": "python",
   "pygments_lexer": "ipython3",
   "version": "3.5.1"
  }
 },
 "nbformat": 4,
 "nbformat_minor": 0
}
